{
 "cells": [
  {
   "cell_type": "code",
   "execution_count": 1,
   "metadata": {
    "is_executing": true
   },
   "outputs": [],
   "source": [
    "import pandas as pd"
   ]
  },
  {
   "cell_type": "code",
   "execution_count": 11,
   "metadata": {},
   "outputs": [],
   "source": [
    "import datetime"
   ]
  },
  {
   "cell_type": "code",
   "execution_count": 2,
   "metadata": {},
   "outputs": [],
   "source": [
    "data_file = 'Mortalidade_Geral_2021.csv'\n",
    "\n",
    "df = pd.read_csv(data_file, sep=';', low_memory=False)"
   ]
  },
  {
   "cell_type": "code",
   "execution_count": null,
   "metadata": {},
   "outputs": [],
   "source": [
    "df.value_counts"
   ]
  },
  {
   "cell_type": "code",
   "execution_count": 4,
   "metadata": {},
   "outputs": [],
   "source": [
    "columns_to_drop = ['ORIGEM', 'HORAOBITO', 'RACACOR', 'ESTCIV', 'ESC', 'SERIESCFAL', 'CODESTAB', 'ESTABDESCR', 'IDADEMAE', 'ESCMAE', 'ESCMAE2010', 'SERIESCMAE', 'OCUPMAE', 'SEMAGESTAC', 'PESO', 'ASSISTMED', 'EXAME', 'CIRURGIA', 'CB_PRE', 'COMUNSVOIM', 'FONTE', 'NUMEROLOTE', 'TPPOS', 'DTINVESTIG', 'CAUSABAS_O', 'DTCADASTRO', 'ATESTANTE', 'STCODIFICA', 'CODIFICADO', 'VERSAOSIST', 'VERSAOSCB', 'FONTEINV', 'DTRECEBIM', 'ATESTADO', 'DTRECORIGA', 'ESCMAEAGR1', 'ESCFALAGR1', 'STDOEPIDEM', 'STDONOVA', 'NUDIASOBCO', 'NUDIASOBIN', 'DTCADINV', 'TPOBITOCOR', 'DTCONINV', 'FONTES', 'TPRESGINFO', 'TPNIVELINV', 'NUDIASINF', 'DTCADINF', 'MORTEPARTO', 'DTCONCASO', 'FONTESINF', 'ALTCAUSA', 'CONTADOR']"
   ]
  },
  {
   "cell_type": "code",
   "execution_count": 5,
   "metadata": {},
   "outputs": [],
   "source": [
    "columns = ['TIPOBITO', 'DTOBITO', 'NATURAL', 'CODMUNNATU', 'DTNASC', 'IDADE', 'SEXO', 'ESC2010', 'OCUP', 'CODMUNRES', 'LOCOCOR', 'CODMUNOCOR', 'QTDFILVIVO', 'QTDFILMORT', 'GRAVIDEZ', 'GESTACAO', 'PARTO', 'OBITOPARTO', 'TPMORTEOCO', 'OBITOGRAV', 'OBITOPUERP', 'NECROPSIA', 'LINHAA', 'LINHAB', 'LINHAC', 'LINHAD', 'LINHAII', 'CAUSABAS', 'CB_PRE', 'DTATESTADO', 'DIFDATA', 'CIRCOBITO', 'ACIDTRAB', 'CAUSAMAT']\n"
   ]
  },
  {
   "cell_type": "code",
   "execution_count": 6,
   "metadata": {},
   "outputs": [],
   "source": [
    "for e in columns_to_drop:\n",
    "    if e in columns:\n",
    "        columns_to_drop.remove(e)\n"
   ]
  },
  {
   "cell_type": "code",
   "execution_count": 7,
   "metadata": {},
   "outputs": [],
   "source": [
    "df = df.drop(columns=columns_to_drop)"
   ]
  },
  {
   "cell_type": "code",
   "execution_count": null,
   "metadata": {},
   "outputs": [],
   "source": [
    "df.value_counts"
   ]
  },
  {
   "cell_type": "code",
   "execution_count": 9,
   "metadata": {},
   "outputs": [],
   "source": [
    "cid_file = 'cid.csv'\n",
    "cid_df = pd.read_csv(cid_file, sep=',', low_memory=False)"
   ]
  },
  {
   "cell_type": "code",
   "execution_count": null,
   "metadata": {},
   "outputs": [],
   "source": [
    "cid_df"
   ]
  },
  {
   "cell_type": "code",
   "execution_count": 17,
   "metadata": {},
   "outputs": [],
   "source": [
    "data = []\n",
    "c = 1\n",
    "day_one = datetime.date(year=2021, day=1, month=1)\n",
    "while day_one < datetime.date(year=2022, day=1, month=1):\n",
    "    data.append({\n",
    "        'id': c,\n",
    "        'dia': day_one.day,\n",
    "        'mes': day_one.month,\n",
    "        'ano': day_one.year,\n",
    "        'data': day_one.__str__()\n",
    "    })\n",
    "    day_one += datetime.timedelta(days=1)\n",
    "    c += 1\n",
    "\n",
    "data_df = pd.DataFrame(data)"
   ]
  },
  {
   "cell_type": "code",
   "execution_count": null,
   "metadata": {},
   "outputs": [],
   "source": [
    "data_df"
   ]
  },
  {
   "cell_type": "code",
   "execution_count": 28,
   "metadata": {},
   "outputs": [
    {
     "data": {
      "text/plain": [
       "Index(['TIPOBITO', 'DTOBITO', 'NATURAL', 'CODMUNNATU', 'DTNASC', 'IDADE',\n",
       "       'SEXO', 'ESC2010', 'OCUP', 'CODMUNRES', 'LOCOCOR', 'CODMUNOCOR',\n",
       "       'QTDFILVIVO', 'QTDFILMORT', 'GRAVIDEZ', 'GESTACAO', 'PARTO',\n",
       "       'OBITOPARTO', 'TPMORTEOCO', 'OBITOGRAV', 'OBITOPUERP', 'NECROPSIA',\n",
       "       'LINHAA', 'LINHAB', 'LINHAC', 'LINHAD', 'LINHAII', 'CAUSABAS', 'CB_PRE',\n",
       "       'DTATESTADO', 'CIRCOBITO', 'ACIDTRAB', 'CAUSAMAT', 'DIFDATA'],\n",
       "      dtype='object')"
      ]
     },
     "execution_count": 28,
     "metadata": {},
     "output_type": "execute_result"
    }
   ],
   "source": [
    "df.columns"
   ]
  },
  {
   "cell_type": "code",
   "execution_count": 27,
   "metadata": {},
   "outputs": [
    {
     "data": {
      "text/plain": [
       "array([2, 23032021, 812.0, 120050.0, 19021971.0, 450, 1, 2.0, nan, 120001,\n",
       "       1, 120040, nan, nan, nan, nan, nan, nan, nan, nan, nan, 2.0,\n",
       "       '*A418', '*J189', '*N179', '*B342*U071', nan, 'B342', nan,\n",
       "       23032021.0, nan, nan, nan, 316], dtype=object)"
      ]
     },
     "execution_count": 27,
     "metadata": {},
     "output_type": "execute_result"
    }
   ],
   "source": [
    "df.values[1]\n"
   ]
  }
 ],
 "metadata": {
  "kernelspec": {
   "display_name": "venv",
   "language": "python",
   "name": "python3"
  },
  "language_info": {
   "codemirror_mode": {
    "name": "ipython",
    "version": 3
   },
   "file_extension": ".py",
   "mimetype": "text/x-python",
   "name": "python",
   "nbconvert_exporter": "python",
   "pygments_lexer": "ipython3",
   "version": "3.10.8"
  },
  "orig_nbformat": 4,
  "vscode": {
   "interpreter": {
    "hash": "b04e7f8f2bc4d7f40143dc0ca94905ae7e4756ff8d1f98c449846097dc42db66"
   }
  }
 },
 "nbformat": 4,
 "nbformat_minor": 2
}
