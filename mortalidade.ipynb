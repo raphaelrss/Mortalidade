{
 "cells": [
  {
   "cell_type": "code",
   "execution_count": 2,
   "metadata": {},
   "outputs": [],
   "source": [
    "import pandas as pd"
   ]
  },
  {
   "cell_type": "code",
   "execution_count": 33,
   "metadata": {},
   "outputs": [],
   "source": [
    "data_file = 'Mortalidade_Geral_2021.csv'\n",
    "\n",
    "df = pd.read_csv(data_file, sep=';', low_memory=False)"
   ]
  },
  {
   "cell_type": "code",
   "execution_count": 36,
   "metadata": {},
   "outputs": [
    {
     "data": {
      "text/plain": [
       "<bound method DataFrame.value_counts of          ORIGEM  TIPOBITO   DTOBITO  HORAOBITO  NATURAL  CODMUNNATU  \\\n",
       "0             1         2  23032021     1500.0    811.0    110020.0   \n",
       "1             1         2  23032021      243.0    812.0    120050.0   \n",
       "2             1         2  23032021     1310.0    812.0    120040.0   \n",
       "3             1         2  17042021     2149.0    812.0    120050.0   \n",
       "4             1         2   6012021      420.0    812.0    120020.0   \n",
       "...         ...       ...       ...        ...      ...         ...   \n",
       "1832644       1         2  24122021     1500.0    852.0    171240.0   \n",
       "1832645       1         2  18122021      130.0    852.0    521380.0   \n",
       "1832646       1         2  11102021     1600.0    821.0    210530.0   \n",
       "1832647       1         2   9072021     1420.0    823.0    231140.0   \n",
       "1832648       1         2  11072021      249.0    821.0    210160.0   \n",
       "\n",
       "             DTNASC  IDADE  SEXO  RACACOR  ...  FONTES  TPRESGINFO  \\\n",
       "0        18061962.0    458     1      4.0  ...     NaN         NaN   \n",
       "1        19021971.0    450     1      4.0  ...     NaN         NaN   \n",
       "2         1101956.0    464     2      4.0  ...     NaN         NaN   \n",
       "3         6011999.0    422     1      4.0  ...     NaN         NaN   \n",
       "4        20082020.0    304     1      4.0  ...  SXXSXX         NaN   \n",
       "...             ...    ...   ...      ...  ...     ...         ...   \n",
       "1832644  30121955.0    465     1      4.0  ...     NaN         NaN   \n",
       "1832645   7101951.0    470     1      1.0  ...     NaN         NaN   \n",
       "1832646  19011967.0    454     1      4.0  ...     NaN         NaN   \n",
       "1832647  24061962.0    459     1      4.0  ...     NaN         NaN   \n",
       "1832648  23051946.0    475     2      4.0  ...     NaN         NaN   \n",
       "\n",
       "         TPNIVELINV  NUDIASINF   DTCADINF  MORTEPARTO  DTCONCASO  FONTESINF  \\\n",
       "0               NaN        NaN        NaN         NaN        NaN        NaN   \n",
       "1               NaN        NaN        NaN         NaN        NaN        NaN   \n",
       "2               NaN        NaN        NaN         NaN        NaN        NaN   \n",
       "3               NaN        NaN        NaN         NaN        NaN        NaN   \n",
       "4               NaN        NaN  7062021.0         3.0  7062021.0        NaN   \n",
       "...             ...        ...        ...         ...        ...        ...   \n",
       "1832644         NaN        NaN        NaN         NaN        NaN        NaN   \n",
       "1832645         NaN        NaN        NaN         NaN        NaN        NaN   \n",
       "1832646         NaN        NaN        NaN         NaN        NaN        NaN   \n",
       "1832647         NaN        NaN        NaN         NaN        NaN        NaN   \n",
       "1832648         NaN        NaN        NaN         NaN        NaN        NaN   \n",
       "\n",
       "         ALTCAUSA  CONTADOR  \n",
       "0             NaN      1313  \n",
       "1             NaN      1314  \n",
       "2             NaN      1315  \n",
       "3             NaN      1505  \n",
       "4             1.0      2215  \n",
       "...           ...       ...  \n",
       "1832644       NaN   1830233  \n",
       "1832645       NaN   1830235  \n",
       "1832646       NaN   1830236  \n",
       "1832647       NaN   1830501  \n",
       "1832648       NaN   1830503  \n",
       "\n",
       "[1832649 rows x 87 columns]>"
      ]
     },
     "execution_count": 36,
     "metadata": {},
     "output_type": "execute_result"
    }
   ],
   "source": [
    "df.value_counts"
   ]
  },
  {
   "cell_type": "code",
   "execution_count": 37,
   "metadata": {},
   "outputs": [],
   "source": [
    "columns_to_drop = ['ORIGEM', 'HORAOBITO', 'RACACOR', 'ESTCIV', 'ESC', 'SERIESCFAL', 'CODESTAB', 'ESTABDESCR', 'IDADEMAE', 'ESCMAE', 'ESCMAE2010', 'SERIESCMAE', 'OCUPMAE', 'SEMAGESTAC', 'PESO', 'ASSISTMED', 'EXAME', 'CIRURGIA', 'CB_PRE', 'COMUNSVOIM', 'FONTE', 'NUMEROLOTE', 'TPPOS', 'DTINVESTIG', 'CAUSABAS_O', 'DTCADASTRO', 'ATESTANTE', 'STCODIFICA', 'CODIFICADO', 'VERSAOSIST', 'VERSAOSCB', 'FONTEINV', 'DTRECEBIM', 'ATESTADO', 'DTRECORIGA', 'ESCMAEAGR1', 'ESCFALAGR1', 'STDOEPIDEM', 'STDONOVA', 'NUDIASOBCO', 'NUDIASOBIN', 'DTCADINV', 'TPOBITOCOR', 'DTCONINV', 'FONTES', 'TPRESGINFO', 'TPNIVELINV', 'NUDIASINF', 'DTCADINF', 'MORTEPARTO', 'DTCONCASO', 'FONTESINF', 'ALTCAUSA', 'CONTADOR']"
   ]
  },
  {
   "cell_type": "code",
   "execution_count": 16,
   "metadata": {},
   "outputs": [],
   "source": [
    "columns = ['TIPOBITO', 'DTOBITO', 'NATURAL', 'CODMUNNATU', 'DTNASC', 'IDADE', 'SEXO', 'ESC2010', 'OCUP', 'CODMUNRES', 'LOCOCOR', 'CODMUNOCOR', 'QTDFILVIVO', 'QTDFILMORT', 'GRAVIDEZ', 'GESTACAO', 'PARTO', 'OBITOPARTO', 'TPMORTEOCO', 'OBITOGRAV', 'OBITOPUERP', 'NECROPSIA', 'LINHAA', 'LINHAB', 'LINHAC', 'LINHAD', 'LINHAII', 'CAUSABAS', 'CB_PRE', 'DTATESTADO', 'DIFDATA', 'CIRCOBITO', 'ACIDTRAB', 'CAUSAMAT']\n"
   ]
  },
  {
   "cell_type": "code",
   "execution_count": 17,
   "metadata": {},
   "outputs": [],
   "source": [
    "for e in columns_to_drop:\n",
    "    if e in columns:\n",
    "        columns_to_drop.remove(e)\n"
   ]
  },
  {
   "cell_type": "code",
   "execution_count": 38,
   "metadata": {},
   "outputs": [],
   "source": [
    "df = df.drop(columns=columns_to_drop)"
   ]
  },
  {
   "cell_type": "code",
   "execution_count": null,
   "metadata": {},
   "outputs": [],
   "source": [
    "df.value_counts"
   ]
  }
 ],
 "metadata": {
  "kernelspec": {
   "display_name": "venv",
   "language": "python",
   "name": "python3"
  },
  "language_info": {
   "codemirror_mode": {
    "name": "ipython",
    "version": 3
   },
   "file_extension": ".py",
   "mimetype": "text/x-python",
   "name": "python",
   "nbconvert_exporter": "python",
   "pygments_lexer": "ipython3",
   "version": "3.10.10"
  },
  "orig_nbformat": 4,
  "vscode": {
   "interpreter": {
    "hash": "b04e7f8f2bc4d7f40143dc0ca94905ae7e4756ff8d1f98c449846097dc42db66"
   }
  }
 },
 "nbformat": 4,
 "nbformat_minor": 2
}
